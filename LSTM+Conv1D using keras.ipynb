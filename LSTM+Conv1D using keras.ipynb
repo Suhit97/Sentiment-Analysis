{
  "nbformat": 4,
  "nbformat_minor": 0,
  "metadata": {
    "colab": {
      "name": "Sentiment_model1.ipynb",
      "provenance": [],
      "authorship_tag": "ABX9TyNOsLWCMHPysyeSWrX5ekX3",
      "include_colab_link": true
    },
    "kernelspec": {
      "name": "python3",
      "display_name": "Python 3"
    },
    "accelerator": "GPU"
  },
  "cells": [
    {
      "cell_type": "markdown",
      "metadata": {
        "id": "view-in-github",
        "colab_type": "text"
      },
      "source": [
        "<a href=\"https://colab.research.google.com/github/Suhit97/Sentiment-Analysis/blob/master/LSTM%2BConv1D%20using%20keras.ipynb\" target=\"_parent\"><img src=\"https://colab.research.google.com/assets/colab-badge.svg\" alt=\"Open In Colab\"/></a>"
      ]
    },
    {
      "cell_type": "markdown",
      "metadata": {
        "id": "Ph8pDuXdvZeh",
        "colab_type": "text"
      },
      "source": [
        ""
      ]
    },
    {
      "cell_type": "code",
      "metadata": {
        "id": "iWYBkuIZwYKd",
        "colab_type": "code",
        "colab": {}
      },
      "source": [
        "\n",
        "\n",
        "import numpy as np # linear algebra\n",
        "import pandas as pd # data processing, CSV file I/O (e.g. pd.read_csv)\n",
        "from tqdm import tqdm\n",
        "from sklearn.model_selection import train_test_split\n",
        "import tensorflow as tf\n",
        "import csv\n",
        "import random\n",
        "from sklearn.preprocessing import LabelEncoder\n",
        "import matplotlib.pyplot as plt\n",
        "%matplotlib inline\n",
        "\n",
        "\n",
        "\n"
      ],
      "execution_count": 4,
      "outputs": []
    },
    {
      "cell_type": "code",
      "metadata": {
        "id": "3GVJ55PKOMuc",
        "colab_type": "code",
        "colab": {
          "base_uri": "https://localhost:8080/",
          "height": 129
        },
        "outputId": "b44deafa-9e0c-4256-80b5-c325575277d8"
      },
      "source": [
        "from google.colab import drive\n",
        "drive.mount('/content/gdrive')\n",
        "root_path = 'gdrive/My Drive/Sentiment/'"
      ],
      "execution_count": 3,
      "outputs": [
        {
          "output_type": "stream",
          "text": [
            "Go to this URL in a browser: https://accounts.google.com/o/oauth2/auth?client_id=947318989803-6bn6qk8qdgf4n4g3pfee6491hc0brc4i.apps.googleusercontent.com&redirect_uri=urn%3aietf%3awg%3aoauth%3a2.0%3aoob&response_type=code&scope=email%20https%3a%2f%2fwww.googleapis.com%2fauth%2fdocs.test%20https%3a%2f%2fwww.googleapis.com%2fauth%2fdrive%20https%3a%2f%2fwww.googleapis.com%2fauth%2fdrive.photos.readonly%20https%3a%2f%2fwww.googleapis.com%2fauth%2fpeopleapi.readonly\n",
            "\n",
            "Enter your authorization code:\n",
            "··········\n",
            "Mounted at /content/gdrive\n"
          ],
          "name": "stdout"
        }
      ]
    },
    {
      "cell_type": "code",
      "metadata": {
        "id": "Z0ClX3hLxN2V",
        "colab_type": "code",
        "colab": {
          "base_uri": "https://localhost:8080/",
          "height": 293
        },
        "outputId": "22b30baa-a7a7-40c4-e2e0-c1a266b7f523"
      },
      "source": [
        "df = pd.read_csv('/content/gdrive/My Drive/Cleaned_text2.csv',\n",
        "                 encoding = 'latin',header=None, index_col=None)\n",
        "df.head()"
      ],
      "execution_count": 5,
      "outputs": [
        {
          "output_type": "execute_result",
          "data": {
            "text/html": [
              "<div>\n",
              "<style scoped>\n",
              "    .dataframe tbody tr th:only-of-type {\n",
              "        vertical-align: middle;\n",
              "    }\n",
              "\n",
              "    .dataframe tbody tr th {\n",
              "        vertical-align: top;\n",
              "    }\n",
              "\n",
              "    .dataframe thead th {\n",
              "        text-align: right;\n",
              "    }\n",
              "</style>\n",
              "<table border=\"1\" class=\"dataframe\">\n",
              "  <thead>\n",
              "    <tr style=\"text-align: right;\">\n",
              "      <th></th>\n",
              "      <th>0</th>\n",
              "      <th>1</th>\n",
              "      <th>2</th>\n",
              "      <th>3</th>\n",
              "      <th>4</th>\n",
              "      <th>5</th>\n",
              "      <th>6</th>\n",
              "    </tr>\n",
              "  </thead>\n",
              "  <tbody>\n",
              "    <tr>\n",
              "      <th>0</th>\n",
              "      <td>0</td>\n",
              "      <td>Negative</td>\n",
              "      <td>1467810369</td>\n",
              "      <td>Mon Apr 06 22:19:45 PDT 2009</td>\n",
              "      <td>NO_QUERY</td>\n",
              "      <td>_TheSpecialOne_</td>\n",
              "      <td>awww thats bummer shoulda got david carr third...</td>\n",
              "    </tr>\n",
              "    <tr>\n",
              "      <th>1</th>\n",
              "      <td>1</td>\n",
              "      <td>Negative</td>\n",
              "      <td>1467810672</td>\n",
              "      <td>Mon Apr 06 22:19:49 PDT 2009</td>\n",
              "      <td>NO_QUERY</td>\n",
              "      <td>scotthamilton</td>\n",
              "      <td>upset cant update facebook texting might cry r...</td>\n",
              "    </tr>\n",
              "    <tr>\n",
              "      <th>2</th>\n",
              "      <td>2</td>\n",
              "      <td>Negative</td>\n",
              "      <td>1467810917</td>\n",
              "      <td>Mon Apr 06 22:19:53 PDT 2009</td>\n",
              "      <td>NO_QUERY</td>\n",
              "      <td>mattycus</td>\n",
              "      <td>dived many times ball managed save rest go bounds</td>\n",
              "    </tr>\n",
              "    <tr>\n",
              "      <th>3</th>\n",
              "      <td>3</td>\n",
              "      <td>Negative</td>\n",
              "      <td>1467811184</td>\n",
              "      <td>Mon Apr 06 22:19:57 PDT 2009</td>\n",
              "      <td>NO_QUERY</td>\n",
              "      <td>ElleCTF</td>\n",
              "      <td>whole body feels itchy like fire</td>\n",
              "    </tr>\n",
              "    <tr>\n",
              "      <th>4</th>\n",
              "      <td>4</td>\n",
              "      <td>Negative</td>\n",
              "      <td>1467811193</td>\n",
              "      <td>Mon Apr 06 22:19:57 PDT 2009</td>\n",
              "      <td>NO_QUERY</td>\n",
              "      <td>Karoli</td>\n",
              "      <td>behaving im mad cant see</td>\n",
              "    </tr>\n",
              "  </tbody>\n",
              "</table>\n",
              "</div>"
            ],
            "text/plain": [
              "   0  ...                                                  6\n",
              "0  0  ...  awww thats bummer shoulda got david carr third...\n",
              "1  1  ...  upset cant update facebook texting might cry r...\n",
              "2  2  ...  dived many times ball managed save rest go bounds\n",
              "3  3  ...                   whole body feels itchy like fire\n",
              "4  4  ...                           behaving im mad cant see\n",
              "\n",
              "[5 rows x 7 columns]"
            ]
          },
          "metadata": {
            "tags": []
          },
          "execution_count": 5
        }
      ]
    },
    {
      "cell_type": "code",
      "metadata": {
        "id": "fTLk5I1AxYte",
        "colab_type": "code",
        "colab": {
          "base_uri": "https://localhost:8080/",
          "height": 206
        },
        "outputId": "e1e2db18-8eb1-4366-fd31-d3842c187836"
      },
      "source": [
        "df.drop([0],axis=1,inplace=True)\n",
        "df.columns = ['sentiment', 'id', 'date', 'query', 'user_id', 'text']\n",
        "df = df.drop(['id', 'date', 'query', 'user_id'], axis=1)\n",
        "df.head()"
      ],
      "execution_count": 6,
      "outputs": [
        {
          "output_type": "execute_result",
          "data": {
            "text/html": [
              "<div>\n",
              "<style scoped>\n",
              "    .dataframe tbody tr th:only-of-type {\n",
              "        vertical-align: middle;\n",
              "    }\n",
              "\n",
              "    .dataframe tbody tr th {\n",
              "        vertical-align: top;\n",
              "    }\n",
              "\n",
              "    .dataframe thead th {\n",
              "        text-align: right;\n",
              "    }\n",
              "</style>\n",
              "<table border=\"1\" class=\"dataframe\">\n",
              "  <thead>\n",
              "    <tr style=\"text-align: right;\">\n",
              "      <th></th>\n",
              "      <th>sentiment</th>\n",
              "      <th>text</th>\n",
              "    </tr>\n",
              "  </thead>\n",
              "  <tbody>\n",
              "    <tr>\n",
              "      <th>0</th>\n",
              "      <td>Negative</td>\n",
              "      <td>awww thats bummer shoulda got david carr third...</td>\n",
              "    </tr>\n",
              "    <tr>\n",
              "      <th>1</th>\n",
              "      <td>Negative</td>\n",
              "      <td>upset cant update facebook texting might cry r...</td>\n",
              "    </tr>\n",
              "    <tr>\n",
              "      <th>2</th>\n",
              "      <td>Negative</td>\n",
              "      <td>dived many times ball managed save rest go bounds</td>\n",
              "    </tr>\n",
              "    <tr>\n",
              "      <th>3</th>\n",
              "      <td>Negative</td>\n",
              "      <td>whole body feels itchy like fire</td>\n",
              "    </tr>\n",
              "    <tr>\n",
              "      <th>4</th>\n",
              "      <td>Negative</td>\n",
              "      <td>behaving im mad cant see</td>\n",
              "    </tr>\n",
              "  </tbody>\n",
              "</table>\n",
              "</div>"
            ],
            "text/plain": [
              "  sentiment                                               text\n",
              "0  Negative  awww thats bummer shoulda got david carr third...\n",
              "1  Negative  upset cant update facebook texting might cry r...\n",
              "2  Negative  dived many times ball managed save rest go bounds\n",
              "3  Negative                   whole body feels itchy like fire\n",
              "4  Negative                           behaving im mad cant see"
            ]
          },
          "metadata": {
            "tags": []
          },
          "execution_count": 6
        }
      ]
    },
    {
      "cell_type": "code",
      "metadata": {
        "id": "rOUqyRQGvcJM",
        "colab_type": "code",
        "colab": {}
      },
      "source": [
        "df.text=df.text.astype(str)"
      ],
      "execution_count": 7,
      "outputs": []
    },
    {
      "cell_type": "code",
      "metadata": {
        "id": "mvnQCYV-ybcK",
        "colab_type": "code",
        "colab": {}
      },
      "source": [
        "TRAIN_SIZE = 0.8\n",
        "MAX_NB_WORDS = 100000\n",
        "MAX_SEQUENCE_LENGTH = 30"
      ],
      "execution_count": 8,
      "outputs": []
    },
    {
      "cell_type": "code",
      "metadata": {
        "id": "-zSM9YnBycsK",
        "colab_type": "code",
        "colab": {
          "base_uri": "https://localhost:8080/",
          "height": 54
        },
        "outputId": "aa30894b-8292-4032-daa4-449314e49cd0"
      },
      "source": [
        "train_data, test_data = train_test_split(df, test_size=1-TRAIN_SIZE,\n",
        "                                         random_state=7) # Splits Dataset into Training and Testing set\n",
        "print(\"Train Data size:\", len(train_data))\n",
        "print(\"Test Data size\", len(test_data))\n"
      ],
      "execution_count": 9,
      "outputs": [
        {
          "output_type": "stream",
          "text": [
            "Train Data size: 1280000\n",
            "Test Data size 320000\n"
          ],
          "name": "stdout"
        }
      ]
    },
    {
      "cell_type": "code",
      "metadata": {
        "id": "tgtMDHupyqN0",
        "colab_type": "code",
        "colab": {
          "base_uri": "https://localhost:8080/",
          "height": 363
        },
        "outputId": "e4d9b83e-43b1-47fc-8590-d9ab1286365d"
      },
      "source": [
        "train_data.head(10)"
      ],
      "execution_count": 19,
      "outputs": [
        {
          "output_type": "execute_result",
          "data": {
            "text/html": [
              "<div>\n",
              "<style scoped>\n",
              "    .dataframe tbody tr th:only-of-type {\n",
              "        vertical-align: middle;\n",
              "    }\n",
              "\n",
              "    .dataframe tbody tr th {\n",
              "        vertical-align: top;\n",
              "    }\n",
              "\n",
              "    .dataframe thead th {\n",
              "        text-align: right;\n",
              "    }\n",
              "</style>\n",
              "<table border=\"1\" class=\"dataframe\">\n",
              "  <thead>\n",
              "    <tr style=\"text-align: right;\">\n",
              "      <th></th>\n",
              "      <th>sentiment</th>\n",
              "      <th>text</th>\n",
              "    </tr>\n",
              "  </thead>\n",
              "  <tbody>\n",
              "    <tr>\n",
              "      <th>23786</th>\n",
              "      <td>Negative</td>\n",
              "      <td>need friends</td>\n",
              "    </tr>\n",
              "    <tr>\n",
              "      <th>182699</th>\n",
              "      <td>Negative</td>\n",
              "      <td>im trying call impossible</td>\n",
              "    </tr>\n",
              "    <tr>\n",
              "      <th>476661</th>\n",
              "      <td>Negative</td>\n",
              "      <td>good pace going min missed turn ended waved thru</td>\n",
              "    </tr>\n",
              "    <tr>\n",
              "      <th>1181490</th>\n",
              "      <td>Positive</td>\n",
              "      <td>u gonna shows ny soon ive luv see u live</td>\n",
              "    </tr>\n",
              "    <tr>\n",
              "      <th>878773</th>\n",
              "      <td>Positive</td>\n",
              "      <td>hell yea get em tattoos ink free wish parents ...</td>\n",
              "    </tr>\n",
              "    <tr>\n",
              "      <th>130866</th>\n",
              "      <td>Negative</td>\n",
              "      <td>yeah need see ur mom calls back first remembr ...</td>\n",
              "    </tr>\n",
              "    <tr>\n",
              "      <th>1235876</th>\n",
              "      <td>Positive</td>\n",
              "      <td>sounds like cup tea sign</td>\n",
              "    </tr>\n",
              "    <tr>\n",
              "      <th>717314</th>\n",
              "      <td>Negative</td>\n",
              "      <td>im tired dont want sleep wtf</td>\n",
              "    </tr>\n",
              "    <tr>\n",
              "      <th>969880</th>\n",
              "      <td>Positive</td>\n",
              "      <td>amazing wish</td>\n",
              "    </tr>\n",
              "    <tr>\n",
              "      <th>748698</th>\n",
              "      <td>Negative</td>\n",
              "      <td>thank god wkrn abc affiliate nashville back ag...</td>\n",
              "    </tr>\n",
              "  </tbody>\n",
              "</table>\n",
              "</div>"
            ],
            "text/plain": [
              "        sentiment                                               text\n",
              "23786    Negative                                       need friends\n",
              "182699   Negative                          im trying call impossible\n",
              "476661   Negative   good pace going min missed turn ended waved thru\n",
              "1181490  Positive           u gonna shows ny soon ive luv see u live\n",
              "878773   Positive  hell yea get em tattoos ink free wish parents ...\n",
              "130866   Negative  yeah need see ur mom calls back first remembr ...\n",
              "1235876  Positive                           sounds like cup tea sign\n",
              "717314   Negative                       im tired dont want sleep wtf\n",
              "969880   Positive                                       amazing wish\n",
              "748698   Negative  thank god wkrn abc affiliate nashville back ag..."
            ]
          },
          "metadata": {
            "tags": []
          },
          "execution_count": 19
        }
      ]
    },
    {
      "cell_type": "code",
      "metadata": {
        "id": "FnJBPqL3uO59",
        "colab_type": "code",
        "colab": {}
      },
      "source": [
        "def roc_auc(predictions,target):\n",
        "    '''\n",
        "    This methods returns the AUC Score when given the Predictions\n",
        "    and Labels\n",
        "    '''\n",
        "    \n",
        "    fpr, tpr, thresholds = metrics.roc_curve(target, predictions)\n",
        "    roc_auc = metrics.auc(fpr, tpr)\n",
        "    return roc_auc"
      ],
      "execution_count": 10,
      "outputs": []
    },
    {
      "cell_type": "markdown",
      "metadata": {
        "id": "MAiyHzrLyE2o",
        "colab_type": "text"
      },
      "source": [
        "## Tokenization¶\n",
        "\n",
        "![image.png](data:image/png;base64,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)"
      ]
    },
    {
      "cell_type": "code",
      "metadata": {
        "id": "Y5QML49Et4AF",
        "colab_type": "code",
        "colab": {
          "base_uri": "https://localhost:8080/",
          "height": 35
        },
        "outputId": "e3f649d2-aff9-4856-c858-88e5ac23d2ba"
      },
      "source": [
        "from keras.preprocessing.text import Tokenizer\n"
      ],
      "execution_count": 11,
      "outputs": [
        {
          "output_type": "stream",
          "text": [
            "Using TensorFlow backend.\n"
          ],
          "name": "stderr"
        }
      ]
    },
    {
      "cell_type": "code",
      "metadata": {
        "id": "rsjM4MJf0h56",
        "colab_type": "code",
        "colab": {
          "base_uri": "https://localhost:8080/",
          "height": 35
        },
        "outputId": "72117c52-479f-4a59-a2c6-197ab155f882"
      },
      "source": [
        "tokenizer = Tokenizer()\n",
        "tokenizer.fit_on_texts(train_data.text)\n",
        "\n",
        "word_index = tokenizer.word_index\n",
        "vocab_size = len(tokenizer.word_index) + 1\n",
        "print(\"Vocabulary Size :\", vocab_size)"
      ],
      "execution_count": 12,
      "outputs": [
        {
          "output_type": "stream",
          "text": [
            "Vocabulary Size : 360959\n"
          ],
          "name": "stdout"
        }
      ]
    },
    {
      "cell_type": "code",
      "metadata": {
        "id": "Lo4XKw_gzxVO",
        "colab_type": "code",
        "colab": {}
      },
      "source": [
        "from sklearn.preprocessing import LabelEncoder\n",
        "from keras.preprocessing.sequence import pad_sequences"
      ],
      "execution_count": 13,
      "outputs": []
    },
    {
      "cell_type": "code",
      "metadata": {
        "id": "N4JVzQRfwilI",
        "colab_type": "code",
        "colab": {
          "base_uri": "https://localhost:8080/",
          "height": 54
        },
        "outputId": "57299806-a5d0-4f6d-ff26-cddda587459f"
      },
      "source": [
        "x_train = pad_sequences(tokenizer.texts_to_sequences(train_data.text),\n",
        "                        maxlen = MAX_SEQUENCE_LENGTH)\n",
        "x_test = pad_sequences(tokenizer.texts_to_sequences(test_data.text),\n",
        "                       maxlen = MAX_SEQUENCE_LENGTH)\n",
        "\n",
        "print(\"Training X Shape:\",x_train.shape)\n",
        "print(\"Testing X Shape:\",x_test.shape)"
      ],
      "execution_count": 14,
      "outputs": [
        {
          "output_type": "stream",
          "text": [
            "Training X Shape: (1280000, 30)\n",
            "Testing X Shape: (320000, 30)\n"
          ],
          "name": "stdout"
        }
      ]
    },
    {
      "cell_type": "markdown",
      "metadata": {
        "id": "v4ItwB9Bx7t9",
        "colab_type": "text"
      },
      "source": [
        "## Label Encoding\n",
        "\n",
        "We are building the model to predict class in enocoded form (0 or 1 as this is a binary classification). We should encode our training labels to encodings.\n"
      ]
    },
    {
      "cell_type": "code",
      "metadata": {
        "id": "QxisZxglw2q2",
        "colab_type": "code",
        "colab": {}
      },
      "source": [
        "labels = train_data.sentiment.unique().tolist()"
      ],
      "execution_count": 15,
      "outputs": []
    },
    {
      "cell_type": "code",
      "metadata": {
        "id": "gskJCvfiw77y",
        "colab_type": "code",
        "colab": {
          "base_uri": "https://localhost:8080/",
          "height": 54
        },
        "outputId": "41b8228f-7fc2-4935-d64f-da084162dfa2"
      },
      "source": [
        "encoder = LabelEncoder()\n",
        "encoder.fit(train_data.sentiment.to_list())\n",
        "\n",
        "y_train = encoder.transform(train_data.sentiment.to_list())\n",
        "y_test = encoder.transform(test_data.sentiment.to_list())\n",
        "\n",
        "y_train = y_train.reshape(-1,1)\n",
        "y_test = y_test.reshape(-1,1)\n",
        "\n",
        "print(\"y_train shape:\", y_train.shape)\n",
        "print(\"y_test shape:\", y_test.shape)"
      ],
      "execution_count": 16,
      "outputs": [
        {
          "output_type": "stream",
          "text": [
            "y_train shape: (1280000, 1)\n",
            "y_test shape: (320000, 1)\n"
          ],
          "name": "stdout"
        }
      ]
    },
    {
      "cell_type": "markdown",
      "metadata": {
        "id": "4-R4nFgoxURg",
        "colab_type": "text"
      },
      "source": [
        "## Word Emdedding\n",
        "\n",
        "In Language Model, words are represented in a way to intend more meaning and for learning the patterns and contextual meaning behind it.\n",
        "\n",
        "Word Embedding is one of the popular representation of document vocabulary.It is capable of capturing context of a word in a document, semantic and syntactic similarity, relation with other words, etc.\n",
        "\n",
        "Basically, it's a feature vector representation of words which are used for other natural language processing applications.\n",
        "\n",
        "We could train the embedding ourselves but that would take a while to train and it wouldn't be effective. So going in the path of Computer Vision, here we use Transfer Learning. We download the pre-trained embedding and use it in our model.\n",
        "\n",
        "The pretrained Word Embedding like GloVe & Word2Vec gives more insights for a word which can be used for classification. If you want to learn more about the Word Embedding, please refer some links that I left at the end of this notebook.\n",
        "\n",
        "In this notebook, I use GloVe Embedding from Stanford AI "
      ]
    },
    {
      "cell_type": "code",
      "metadata": {
        "id": "DVCecUyLxo26",
        "colab_type": "code",
        "colab": {
          "base_uri": "https://localhost:8080/",
          "height": 513
        },
        "outputId": "c560eab7-62f0-43af-e0a1-10a93d1d644b"
      },
      "source": [
        "!wget http://nlp.stanford.edu/data/glove.6B.zip\n",
        "!unzip glove.6B.zip.1 -d /content/gdrive/My\\ Drive/Sentiment"
      ],
      "execution_count": 28,
      "outputs": [
        {
          "output_type": "stream",
          "text": [
            "--2020-07-03 08:24:43--  http://nlp.stanford.edu/data/glove.6B.zip\n",
            "Resolving nlp.stanford.edu (nlp.stanford.edu)... 171.64.67.140\n",
            "Connecting to nlp.stanford.edu (nlp.stanford.edu)|171.64.67.140|:80... connected.\n",
            "HTTP request sent, awaiting response... 302 Found\n",
            "Location: https://nlp.stanford.edu/data/glove.6B.zip [following]\n",
            "--2020-07-03 08:24:43--  https://nlp.stanford.edu/data/glove.6B.zip\n",
            "Connecting to nlp.stanford.edu (nlp.stanford.edu)|171.64.67.140|:443... connected.\n",
            "HTTP request sent, awaiting response... 301 Moved Permanently\n",
            "Location: http://downloads.cs.stanford.edu/nlp/data/glove.6B.zip [following]\n",
            "--2020-07-03 08:24:43--  http://downloads.cs.stanford.edu/nlp/data/glove.6B.zip\n",
            "Resolving downloads.cs.stanford.edu (downloads.cs.stanford.edu)... 171.64.64.22\n",
            "Connecting to downloads.cs.stanford.edu (downloads.cs.stanford.edu)|171.64.64.22|:80... connected.\n",
            "HTTP request sent, awaiting response... 200 OK\n",
            "Length: 862182613 (822M) [application/zip]\n",
            "Saving to: ‘glove.6B.zip.1’\n",
            "\n",
            "glove.6B.zip.1      100%[===================>] 822.24M  2.05MB/s    in 6m 28s  \n",
            "\n",
            "2020-07-03 08:31:11 (2.12 MB/s) - ‘glove.6B.zip.1’ saved [862182613/862182613]\n",
            "\n",
            "Archive:  glove.6B.zip\n",
            "  End-of-central-directory signature not found.  Either this file is not\n",
            "  a zipfile, or it constitutes one disk of a multi-part archive.  In the\n",
            "  latter case the central directory and zipfile comment will be found on\n",
            "  the last disk(s) of this archive.\n",
            "unzip:  cannot find zipfile directory in one of glove.6B.zip or\n",
            "        glove.6B.zip.zip, and cannot find glove.6B.zip.ZIP, period.\n"
          ],
          "name": "stdout"
        }
      ]
    },
    {
      "cell_type": "code",
      "metadata": {
        "id": "wfOoe78fz-GG",
        "colab_type": "code",
        "colab": {
          "base_uri": "https://localhost:8080/",
          "height": 109
        },
        "outputId": "49af6432-8e19-4642-f175-d3cdbbd5931e"
      },
      "source": [
        "!unzip glove.6B.zip.1 -d /content/gdrive/My\\ Drive/Sentiment"
      ],
      "execution_count": 29,
      "outputs": [
        {
          "output_type": "stream",
          "text": [
            "Archive:  glove.6B.zip.1\n",
            "  inflating: /content/gdrive/My Drive/Sentiment/glove.6B.50d.txt  \n",
            "  inflating: /content/gdrive/My Drive/Sentiment/glove.6B.100d.txt  \n",
            "  inflating: /content/gdrive/My Drive/Sentiment/glove.6B.200d.txt  \n",
            "  inflating: /content/gdrive/My Drive/Sentiment/glove.6B.300d.txt  \n"
          ],
          "name": "stdout"
        }
      ]
    },
    {
      "cell_type": "code",
      "metadata": {
        "id": "vVCv79x_0U7N",
        "colab_type": "code",
        "colab": {}
      },
      "source": [
        "GLOVE_EMB = '/content/gdrive/My Drive/Sentiment/glove.6B.300d.txt'\n",
        "EMBEDDING_DIM = 300\n",
        "LR = 1e-3\n",
        "BATCH_SIZE = 1024\n",
        "EPOCHS = 10"
      ],
      "execution_count": 17,
      "outputs": []
    },
    {
      "cell_type": "code",
      "metadata": {
        "id": "tR6ubVZ-037t",
        "colab_type": "code",
        "colab": {
          "base_uri": "https://localhost:8080/",
          "height": 35
        },
        "outputId": "cd623d94-9ba9-4946-8151-d9348e28c362"
      },
      "source": [
        "embeddings_index = {}\n",
        "\n",
        "f = open(GLOVE_EMB)\n",
        "for line in f:\n",
        "  values = line.split()\n",
        "  word = value = values[0]\n",
        "  coefs = np.asarray(values[1:], dtype='float32')\n",
        "  embeddings_index[word] = coefs\n",
        "f.close()\n",
        "\n",
        "print('Found %s word vectors.' %len(embeddings_index))"
      ],
      "execution_count": 18,
      "outputs": [
        {
          "output_type": "stream",
          "text": [
            "Found 400000 word vectors.\n"
          ],
          "name": "stdout"
        }
      ]
    },
    {
      "cell_type": "code",
      "metadata": {
        "id": "1YyBC9Df1s-E",
        "colab_type": "code",
        "colab": {}
      },
      "source": [
        "\n",
        "\n",
        "embedding_matrix = np.zeros((vocab_size, EMBEDDING_DIM))\n",
        "for word, i in word_index.items():\n",
        "  embedding_vector = embeddings_index.get(word)\n",
        "  if embedding_vector is not None:\n",
        "    embedding_matrix[i] = embedding_vector\n",
        "\n"
      ],
      "execution_count": 19,
      "outputs": []
    },
    {
      "cell_type": "code",
      "metadata": {
        "id": "VOi5kCnj1-5c",
        "colab_type": "code",
        "colab": {}
      },
      "source": [
        "embedding_layer = tf.keras.layers.Embedding(vocab_size,\n",
        "                                          EMBEDDING_DIM,\n",
        "                                          weights=[embedding_matrix],\n",
        "                                          input_length=MAX_SEQUENCE_LENGTH,\n",
        "                                          trainable=False)"
      ],
      "execution_count": 20,
      "outputs": []
    },
    {
      "cell_type": "markdown",
      "metadata": {
        "id": "o6eF327V3uKq",
        "colab_type": "text"
      },
      "source": [
        "## Model Training - LSTM\n",
        "For model architecture, we use\n",
        "\n",
        "1) Embedding Layer - Generates Embedding Vector for each input sequence.\n",
        "\n",
        "2) Conv1D Layer - Its using to convolve data into smaller feature vectors.\n",
        "\n",
        "3) LSTM - Long Short Term Memory, its a variant of RNN which has memory state cell to learn the context of words which are at further along the text to carry contextual meaning rather than just neighbouring words as in case of RNN.\n",
        "\n",
        "4) Dense - Fully Connected Layers for classification\n",
        "\n",
        "![image.png](data:image/png;base64,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)"
      ]
    },
    {
      "cell_type": "code",
      "metadata": {
        "id": "Svpl4fi43gi2",
        "colab_type": "code",
        "colab": {}
      },
      "source": [
        "from tensorflow.keras.layers import Conv1D, Bidirectional, LSTM, Dense, Input, Dropout\n",
        "from tensorflow.keras.layers import SpatialDropout1D\n",
        "from tensorflow.keras.callbacks import ModelCheckpoint"
      ],
      "execution_count": 21,
      "outputs": []
    },
    {
      "cell_type": "code",
      "metadata": {
        "id": "9cU15sRR2E5m",
        "colab_type": "code",
        "colab": {
          "base_uri": "https://localhost:8080/",
          "height": 92
        },
        "outputId": "03891c2e-b708-4a80-abbe-04b11aab258b"
      },
      "source": [
        "sequence_input = Input(shape=(MAX_SEQUENCE_LENGTH,), dtype='int32')\n",
        "embedding_sequences = embedding_layer(sequence_input)\n",
        "x = SpatialDropout1D(0.2)(embedding_sequences)\n",
        "x = Conv1D(64, 5, activation='relu')(x)\n",
        "x = Bidirectional(LSTM(64, dropout=0.2, recurrent_dropout=0.2))(x)\n",
        "x = Dense(512, activation='relu')(x)\n",
        "x = Dropout(0.5)(x)\n",
        "x = Dense(512, activation='relu')(x)\n",
        "outputs = Dense(1, activation='sigmoid')(x)\n",
        "model = tf.keras.Model(sequence_input, outputs)"
      ],
      "execution_count": 22,
      "outputs": [
        {
          "output_type": "stream",
          "text": [
            "WARNING:tensorflow:Layer lstm will not use cuDNN kernel since it doesn't meet the cuDNN kernel criteria. It will use generic GPU kernel as fallback when running on GPU\n",
            "WARNING:tensorflow:Layer lstm will not use cuDNN kernel since it doesn't meet the cuDNN kernel criteria. It will use generic GPU kernel as fallback when running on GPU\n",
            "WARNING:tensorflow:Layer lstm will not use cuDNN kernel since it doesn't meet the cuDNN kernel criteria. It will use generic GPU kernel as fallback when running on GPU\n"
          ],
          "name": "stdout"
        }
      ]
    },
    {
      "cell_type": "code",
      "metadata": {
        "id": "etKeuIus5IlU",
        "colab_type": "code",
        "colab": {
          "base_uri": "https://localhost:8080/",
          "height": 495
        },
        "outputId": "875a607a-0957-4e0d-af53-ce09fa53c3dd"
      },
      "source": [
        "model.summary()"
      ],
      "execution_count": 24,
      "outputs": [
        {
          "output_type": "stream",
          "text": [
            "Model: \"model\"\n",
            "_________________________________________________________________\n",
            "Layer (type)                 Output Shape              Param #   \n",
            "=================================================================\n",
            "input_1 (InputLayer)         [(None, 30)]              0         \n",
            "_________________________________________________________________\n",
            "embedding (Embedding)        (None, 30, 300)           108287700 \n",
            "_________________________________________________________________\n",
            "spatial_dropout1d (SpatialDr (None, 30, 300)           0         \n",
            "_________________________________________________________________\n",
            "conv1d (Conv1D)              (None, 26, 64)            96064     \n",
            "_________________________________________________________________\n",
            "bidirectional (Bidirectional (None, 128)               66048     \n",
            "_________________________________________________________________\n",
            "dense (Dense)                (None, 512)               66048     \n",
            "_________________________________________________________________\n",
            "dropout (Dropout)            (None, 512)               0         \n",
            "_________________________________________________________________\n",
            "dense_1 (Dense)              (None, 512)               262656    \n",
            "_________________________________________________________________\n",
            "dense_2 (Dense)              (None, 1)                 513       \n",
            "=================================================================\n",
            "Total params: 108,779,029\n",
            "Trainable params: 491,329\n",
            "Non-trainable params: 108,287,700\n",
            "_________________________________________________________________\n"
          ],
          "name": "stdout"
        }
      ]
    },
    {
      "cell_type": "markdown",
      "metadata": {
        "id": "l-FocUjZ41eQ",
        "colab_type": "text"
      },
      "source": [
        "## Optimization Algorithm\n",
        "\n",
        "This notebook uses Adam, optimization algorithm for Gradient Descent.\n",
        "\n",
        "Callbacks are special functions which are called at the end of an epoch. We can use any functions to perform specific operation after each epoch. I used two callbacks here,\n",
        "\n",
        "    LRScheduler - It changes a Learning Rate at specfic epoch to achieve more improved result. In this notebook, the learning rate exponentionally decreases after remaining same for first 10 Epoch.\n",
        "\n",
        "    ModelCheckPoint - It saves best model while training based on some metrics. Here, it saves the model with minimum Validity Loss.\n",
        "\n"
      ]
    },
    {
      "cell_type": "code",
      "metadata": {
        "id": "BhyKwlEW47Np",
        "colab_type": "code",
        "colab": {}
      },
      "source": [
        "from tensorflow.keras.optimizers import Adam\n",
        "from tensorflow.keras.callbacks import ReduceLROnPlateau\n",
        "\n",
        "model.compile(optimizer=Adam(learning_rate=LR), loss='binary_crossentropy',\n",
        "              metrics=['accuracy'])\n",
        "ReduceLROnPlateau = ReduceLROnPlateau(factor=0.1,\n",
        "                                     min_lr = 0.01,\n",
        "                                     monitor = 'val_loss',\n",
        "                                     verbose = 1)"
      ],
      "execution_count": 25,
      "outputs": []
    },
    {
      "cell_type": "code",
      "metadata": {
        "id": "1ejpH1ui5TWS",
        "colab_type": "code",
        "colab": {
          "base_uri": "https://localhost:8080/",
          "height": 110
        },
        "outputId": "09db7142-2481-4062-8c1b-85e9604b2d86"
      },
      "source": [
        "\n",
        "\n",
        "print(\"Training on GPU...\") if tf.test.is_gpu_available() else print(\"Training on CPU...\")\n",
        "\n"
      ],
      "execution_count": 26,
      "outputs": [
        {
          "output_type": "stream",
          "text": [
            "WARNING:tensorflow:From <ipython-input-26-f4d0d6e43517>:3: is_gpu_available (from tensorflow.python.framework.test_util) is deprecated and will be removed in a future version.\n",
            "Instructions for updating:\n",
            "Use `tf.config.list_physical_devices('GPU')` instead.\n",
            "Training on GPU...\n"
          ],
          "name": "stdout"
        }
      ]
    },
    {
      "cell_type": "code",
      "metadata": {
        "id": "nhSoK0Rs59di",
        "colab_type": "code",
        "colab": {
          "base_uri": "https://localhost:8080/",
          "height": 404
        },
        "outputId": "4f6cceb3-c460-4fb8-a291-c61fc3d6419a"
      },
      "source": [
        "\n",
        "\n",
        "history = model.fit(x_train, y_train, batch_size=BATCH_SIZE, epochs=EPOCHS,\n",
        "                    validation_data=(x_test, y_test), callbacks=[ReduceLROnPlateau])\n",
        "\n"
      ],
      "execution_count": 27,
      "outputs": [
        {
          "output_type": "stream",
          "text": [
            "Epoch 1/10\n",
            "1250/1250 [==============================] - 121s 97ms/step - loss: 0.5125 - accuracy: 0.7452 - val_loss: 0.4773 - val_accuracy: 0.7684 - lr: 0.0010\n",
            "Epoch 2/10\n",
            "1250/1250 [==============================] - 121s 96ms/step - loss: 0.4796 - accuracy: 0.7686 - val_loss: 0.4639 - val_accuracy: 0.7788 - lr: 0.0010\n",
            "Epoch 3/10\n",
            "1250/1250 [==============================] - 122s 98ms/step - loss: 0.4684 - accuracy: 0.7755 - val_loss: 0.4573 - val_accuracy: 0.7818 - lr: 0.0010\n",
            "Epoch 4/10\n",
            "1250/1250 [==============================] - 122s 98ms/step - loss: 0.4620 - accuracy: 0.7796 - val_loss: 0.4570 - val_accuracy: 0.7844 - lr: 0.0010\n",
            "Epoch 5/10\n",
            "1250/1250 [==============================] - 123s 98ms/step - loss: 0.4575 - accuracy: 0.7824 - val_loss: 0.4524 - val_accuracy: 0.7858 - lr: 0.0010\n",
            "Epoch 6/10\n",
            "1250/1250 [==============================] - 122s 98ms/step - loss: 0.4542 - accuracy: 0.7844 - val_loss: 0.4509 - val_accuracy: 0.7860 - lr: 0.0010\n",
            "Epoch 7/10\n",
            "1250/1250 [==============================] - 121s 97ms/step - loss: 0.4516 - accuracy: 0.7860 - val_loss: 0.4499 - val_accuracy: 0.7865 - lr: 0.0010\n",
            "Epoch 8/10\n",
            "1250/1250 [==============================] - 120s 96ms/step - loss: 0.4490 - accuracy: 0.7878 - val_loss: 0.4490 - val_accuracy: 0.7866 - lr: 0.0010\n",
            "Epoch 9/10\n",
            "1250/1250 [==============================] - 120s 96ms/step - loss: 0.4471 - accuracy: 0.7885 - val_loss: 0.4487 - val_accuracy: 0.7882 - lr: 0.0010\n",
            "Epoch 10/10\n",
            "1250/1250 [==============================] - 120s 96ms/step - loss: 0.4451 - accuracy: 0.7897 - val_loss: 0.4491 - val_accuracy: 0.7886 - lr: 0.0010\n"
          ],
          "name": "stdout"
        }
      ]
    },
    {
      "cell_type": "markdown",
      "metadata": {
        "id": "Ft9zxfIq8qLD",
        "colab_type": "text"
      },
      "source": [
        "## Model Evaluation\n",
        "\n",
        "Now that we have trained the model, we can evaluate its performance. We will some evaluation metrics and techniques to test the model.\n",
        "\n",
        "Let's start with the Learning Curve of loss and accuracy of the model on each epoch.\n"
      ]
    },
    {
      "cell_type": "code",
      "metadata": {
        "id": "j9G4bHn48t4d",
        "colab_type": "code",
        "colab": {
          "base_uri": "https://localhost:8080/",
          "height": 313
        },
        "outputId": "031674f6-d071-4077-f0ef-62ff94b61bd7"
      },
      "source": [
        "\n",
        "\n",
        "s, (at, al) = plt.subplots(2,1)\n",
        "at.plot(history.history['accuracy'], c= 'b')\n",
        "at.plot(history.history['val_accuracy'], c='r')\n",
        "at.set_title('model accuracy')\n",
        "at.set_ylabel('accuracy')\n",
        "at.set_xlabel('epoch')\n",
        "at.legend(['LSTM_train', 'LSTM_val'], loc='upper left')\n",
        "\n",
        "al.plot(history.history['loss'], c='m')\n",
        "al.plot(history.history['val_loss'], c='c')\n",
        "al.set_title('model loss')\n",
        "al.set_ylabel('loss')\n",
        "al.set_xlabel('epoch')\n",
        "al.legend(['train', 'val'], loc = 'upper left')\n",
        "\n"
      ],
      "execution_count": 28,
      "outputs": [
        {
          "output_type": "execute_result",
          "data": {
            "text/plain": [
              "<matplotlib.legend.Legend at 0x7fe56e17ae48>"
            ]
          },
          "metadata": {
            "tags": []
          },
          "execution_count": 28
        },
        {
          "output_type": "display_data",
          "data": {
            "image/png": "[encoded data removed]",
            "text/plain": [
              "<Figure size 432x288 with 2 Axes>"
            ]
          },
          "metadata": {
            "tags": [],
            "needs_background": "light"
          }
        }
      ]
    },
    {
      "cell_type": "markdown",
      "metadata": {
        "id": "1iU4LVBg_ejQ",
        "colab_type": "text"
      },
      "source": [
        "The model will output a prediction score between 0 and 1. We can classify two classes by defining a threshold value for it. In our case, I have set 0.5 as THRESHOLD value, if the score above it. Then it will be classified as POSITIVE sentiment.\n"
      ]
    },
    {
      "cell_type": "code",
      "metadata": {
        "id": "_lnZimEm_FsO",
        "colab_type": "code",
        "colab": {
          "base_uri": "https://localhost:8080/",
          "height": 35
        },
        "outputId": "88bd0eca-eaaa-4e84-82e3-7fe7dfe95e5b"
      },
      "source": [
        "def decode_sentiment(score):\n",
        "    return \"Positive\" if score>0.5 else \"Negative\"\n",
        "\n",
        "\n",
        "scores = model.predict(x_test, verbose=1, batch_size=10000)\n",
        "y_pred_1d = [decode_sentiment(score) for score in scores]"
      ],
      "execution_count": 29,
      "outputs": [
        {
          "output_type": "stream",
          "text": [
            "32/32 [==============================] - 3s 108ms/step\n"
          ],
          "name": "stdout"
        }
      ]
    },
    {
      "cell_type": "markdown",
      "metadata": {
        "id": "yDWGGuJN_r-T",
        "colab_type": "text"
      },
      "source": [
        "## Confusion Matrix\n",
        "\n",
        "Confusion Matrix provide a nice overlook at the model's performance in classification task\n"
      ]
    },
    {
      "cell_type": "code",
      "metadata": {
        "id": "Tm6oeySC_oF_",
        "colab_type": "code",
        "colab": {}
      },
      "source": [
        "import itertools\n",
        "from sklearn.metrics import confusion_matrix, classification_report, accuracy_score\n",
        "def plot_confusion_matrix(cm, classes,\n",
        "                          title='Confusion matrix',\n",
        "                          cmap=plt.cm.Blues):\n",
        "    \"\"\"\n",
        "    This function prints and plots the confusion matrix.\n",
        "    Normalization can be applied by setting `normalize=True`.\n",
        "    \"\"\"\n",
        "\n",
        "    cm = cm.astype('float') / cm.sum(axis=1)[:, np.newaxis]\n",
        "\n",
        "    plt.imshow(cm, interpolation='nearest', cmap=cmap)\n",
        "    plt.title(title, fontsize=20)\n",
        "    plt.colorbar()\n",
        "    tick_marks = np.arange(len(classes))\n",
        "    plt.xticks(tick_marks, classes, fontsize=13)\n",
        "    plt.yticks(tick_marks, classes, fontsize=13)\n",
        "\n",
        "    fmt = '.2f'\n",
        "    thresh = cm.max() / 2.\n",
        "    for i, j in itertools.product(range(cm.shape[0]), range(cm.shape[1])):\n",
        "        plt.text(j, i, format(cm[i, j], fmt),\n",
        "                 horizontalalignment=\"center\",\n",
        "                 color=\"white\" if cm[i, j] > thresh else \"black\")\n",
        "\n",
        "    plt.ylabel('True label', fontsize=17)\n",
        "    plt.xlabel('Predicted label', fontsize=17)"
      ],
      "execution_count": 30,
      "outputs": []
    },
    {
      "cell_type": "code",
      "metadata": {
        "id": "2PhvRBK3_3NL",
        "colab_type": "code",
        "colab": {
          "base_uri": "https://localhost:8080/",
          "height": 370
        },
        "outputId": "45be99f2-1180-4375-cf47-f8cc3ca943be"
      },
      "source": [
        "cnf_matrix = confusion_matrix(test_data.sentiment.to_list(), y_pred_1d)\n",
        "plt.figure(figsize=(6,6))\n",
        "plot_confusion_matrix(cnf_matrix, classes=test_data.sentiment.unique(), title=\"Confusion matrix\")\n",
        "plt.show()\n"
      ],
      "execution_count": 31,
      "outputs": [
        {
          "output_type": "display_data",
          "data": {
            "image/png": "[encoded data removed]",
            "text/plain": [
              "<Figure size 432x432 with 2 Axes>"
            ]
          },
          "metadata": {
            "tags": [],
            "needs_background": "light"
          }
        }
      ]
    },
    {
      "cell_type": "code",
      "metadata": {
        "id": "K3ZZR8rk__sC",
        "colab_type": "code",
        "colab": {
          "base_uri": "https://localhost:8080/",
          "height": 182
        },
        "outputId": "428279e3-cb21-4e60-f3a7-3ec71adc1398"
      },
      "source": [
        "print(classification_report(list(test_data.sentiment), y_pred_1d))"
      ],
      "execution_count": 32,
      "outputs": [
        {
          "output_type": "stream",
          "text": [
            "              precision    recall  f1-score   support\n",
            "\n",
            "    Negative       0.79      0.79      0.79    160542\n",
            "    Positive       0.79      0.79      0.79    159458\n",
            "\n",
            "    accuracy                           0.79    320000\n",
            "   macro avg       0.79      0.79      0.79    320000\n",
            "weighted avg       0.79      0.79      0.79    320000\n",
            "\n"
          ],
          "name": "stdout"
        }
      ]
    },
    {
      "cell_type": "code",
      "metadata": {
        "id": "AJittxDKAKD_",
        "colab_type": "code",
        "colab": {}
      },
      "source": [
        "MODEL_PATH = '/content/gdrive/My Drive/Sentiment/sent_lstm_conv1.hdf5'"
      ],
      "execution_count": 33,
      "outputs": []
    },
    {
      "cell_type": "code",
      "metadata": {
        "id": "I4vF6bkAAcfj",
        "colab_type": "code",
        "colab": {}
      },
      "source": [
        "from tensorflow.keras.models import load_model\n",
        "# save entire model to HDF5 \n",
        "model.save(MODEL_PATH)"
      ],
      "execution_count": 34,
      "outputs": []
    }
  ]
}