{
  "nbformat": 4,
  "nbformat_minor": 0,
  "metadata": {
    "colab": {
      "name": "Sentiment_model2.ipynb",
      "provenance": [],
      "authorship_tag": "ABX9TyNgAaLOVdzp7DltkNIdscX7",
      "include_colab_link": true
    },
    "kernelspec": {
      "name": "python3",
      "display_name": "Python 3"
    },
    "accelerator": "GPU"
  },
  "cells": [
    {
      "cell_type": "markdown",
      "metadata": {
        "id": "view-in-github",
        "colab_type": "text"
      },
      "source": [
        "<a href=\"https://colab.research.google.com/github/Suhit97/Sentiment-Analysis/blob/master/LSTM_using_tensorflow%20.ipynb\" target=\"_parent\"><img src=\"https://colab.research.google.com/assets/colab-badge.svg\" alt=\"Open In Colab\"/></a>"
      ]
    },
    {
      "cell_type": "code",
      "metadata": {
        "id": "QhFtSdDAZduK",
        "colab_type": "code",
        "colab": {}
      },
      "source": [
        "import json\n",
        "import tensorflow as tf\n",
        "import csv\n",
        "import random\n",
        "import numpy as np\n",
        "\n",
        "from tensorflow.keras.preprocessing.text import Tokenizer\n",
        "from tensorflow.keras.preprocessing.sequence import pad_sequences\n",
        "from tensorflow.keras.utils import to_categorical\n",
        "from tensorflow.keras import regularizers\n",
        "\n",
        "\n"
      ],
      "execution_count": 5,
      "outputs": []
    },
    {
      "cell_type": "code",
      "metadata": {
        "id": "s7noPPqPaudo",
        "colab_type": "code",
        "colab": {}
      },
      "source": [
        "embedding_dim = 100\n",
        "max_length = 16\n",
        "trunc_type='post'\n",
        "padding_type='post'\n",
        "oov_tok = \"<OOV>\"\n",
        "training_size=160000\n",
        "test_portion=.1\n",
        "\n",
        "corpus = []"
      ],
      "execution_count": 6,
      "outputs": []
    },
    {
      "cell_type": "code",
      "metadata": {
        "id": "mZIqXDeYZsMt",
        "colab_type": "code",
        "colab": {
          "base_uri": "https://localhost:8080/",
          "height": 129
        },
        "outputId": "bf48a7a2-dbf3-465c-bb0e-f2bcbe6d9ee3"
      },
      "source": [
        "from google.colab import drive\n",
        "drive.mount('/content/gdrive')\n",
        "root_path = 'gdrive/My Drive/Sentiment/'\n"
      ],
      "execution_count": 7,
      "outputs": [
        {
          "output_type": "stream",
          "text": [
            "Go to this URL in a browser: https://accounts.google.com/o/oauth2/auth?client_id=947318989803-6bn6qk8qdgf4n4g3pfee6491hc0brc4i.apps.googleusercontent.com&redirect_uri=urn%3aietf%3awg%3aoauth%3a2.0%3aoob&response_type=code&scope=email%20https%3a%2f%2fwww.googleapis.com%2fauth%2fdocs.test%20https%3a%2f%2fwww.googleapis.com%2fauth%2fdrive%20https%3a%2f%2fwww.googleapis.com%2fauth%2fdrive.photos.readonly%20https%3a%2f%2fwww.googleapis.com%2fauth%2fpeopleapi.readonly\n",
            "\n",
            "Enter your authorization code:\n",
            "··········\n",
            "Mounted at /content/gdrive\n"
          ],
          "name": "stdout"
        }
      ]
    },
    {
      "cell_type": "code",
      "metadata": {
        "id": "vSwb3q4Ta5cH",
        "colab_type": "code",
        "colab": {}
      },
      "source": [
        "cleaned_csv_path = '/content/gdrive/My Drive/Cleaned_text4.csv'"
      ],
      "execution_count": 8,
      "outputs": []
    },
    {
      "cell_type": "code",
      "metadata": {
        "id": "MeDFAKs7aLqm",
        "colab_type": "code",
        "colab": {}
      },
      "source": [
        "num_sentences = 0\n",
        "\n",
        "with open(cleaned_csv_path) as csvfile:\n",
        "    reader = csv.reader(csvfile, delimiter=',')\n",
        "    for row in reader:\n",
        "        list_item=[]\n",
        "        list_item.append(row[5])\n",
        "        this_label=row[0]\n",
        "        if this_label=='Negative':\n",
        "            list_item.append(0)\n",
        "        else:\n",
        "            list_item.append(1)\n",
        "        num_sentences = num_sentences + 1\n",
        "        corpus.append(list_item)"
      ],
      "execution_count": 9,
      "outputs": []
    },
    {
      "cell_type": "code",
      "metadata": {
        "id": "Goe73hsnbPtf",
        "colab_type": "code",
        "colab": {
          "base_uri": "https://localhost:8080/",
          "height": 72
        },
        "outputId": "2c719c0e-96da-4c24-d02b-3cb6d029bbc6"
      },
      "source": [
        "print(num_sentences)\n",
        "print(len(corpus))\n",
        "print(corpus[1])"
      ],
      "execution_count": 34,
      "outputs": [
        {
          "output_type": "stream",
          "text": [
            "1600000\n",
            "1600000\n",
            "['upset cant update facebook texting might cry result school today also blah', 0]\n"
          ],
          "name": "stdout"
        }
      ]
    },
    {
      "cell_type": "code",
      "metadata": {
        "id": "RDAUfofng15i",
        "colab_type": "code",
        "colab": {}
      },
      "source": [
        "sentences=[]\n",
        "labels=[]\n",
        "random.shuffle(corpus)\n",
        "for x in range(training_size):\n",
        "    sentences.append(corpus[x][0])\n",
        "    labels.append(corpus[x][1])\n",
        "\n",
        "\n",
        "tokenizer = Tokenizer()\n",
        "tokenizer.fit_on_texts(sentences)\n",
        "\n",
        "word_index = tokenizer.word_index\n",
        "vocab_size=len(word_index)\n",
        "\n",
        "sequences = tokenizer.texts_to_sequences(sentences)\n",
        "padded = pad_sequences(sequences, maxlen=max_length, padding=padding_type, truncating=trunc_type)\n",
        "\n",
        "split = int(test_portion * training_size)\n",
        "\n",
        "test_sequences = padded[0:split]\n",
        "training_sequences = padded[split:training_size]\n",
        "test_labels = labels[0:split]\n",
        "training_labels = labels[split:training_size]"
      ],
      "execution_count": 10,
      "outputs": []
    },
    {
      "cell_type": "code",
      "metadata": {
        "id": "8nde3WNghZp7",
        "colab_type": "code",
        "colab": {
          "base_uri": "https://localhost:8080/",
          "height": 209
        },
        "outputId": "d055d329-b06b-44e9-8ba6-d8afe970b7ea"
      },
      "source": [
        "print(vocab_size)\n",
        "print(word_index['i'])\n"
      ],
      "execution_count": 36,
      "outputs": [
        {
          "output_type": "stream",
          "text": [
            "87739\n"
          ],
          "name": "stdout"
        },
        {
          "output_type": "error",
          "ename": "KeyError",
          "evalue": "ignored",
          "traceback": [
            "\u001b[0;31m---------------------------------------------------------------------------\u001b[0m",
            "\u001b[0;31mKeyError\u001b[0m                                  Traceback (most recent call last)",
            "\u001b[0;32m<ipython-input-36-d679771adcf6>\u001b[0m in \u001b[0;36m<module>\u001b[0;34m()\u001b[0m\n\u001b[1;32m      1\u001b[0m \u001b[0mprint\u001b[0m\u001b[0;34m(\u001b[0m\u001b[0mvocab_size\u001b[0m\u001b[0;34m)\u001b[0m\u001b[0;34m\u001b[0m\u001b[0;34m\u001b[0m\u001b[0m\n\u001b[0;32m----> 2\u001b[0;31m \u001b[0mprint\u001b[0m\u001b[0;34m(\u001b[0m\u001b[0mword_index\u001b[0m\u001b[0;34m[\u001b[0m\u001b[0;34m'i'\u001b[0m\u001b[0;34m]\u001b[0m\u001b[0;34m)\u001b[0m\u001b[0;34m\u001b[0m\u001b[0;34m\u001b[0m\u001b[0m\n\u001b[0m",
            "\u001b[0;31mKeyError\u001b[0m: 'i'"
          ]
        }
      ]
    },
    {
      "cell_type": "code",
      "metadata": {
        "id": "70Ihv9ZFil6n",
        "colab_type": "code",
        "colab": {
          "base_uri": "https://localhost:8080/",
          "height": 219
        },
        "outputId": "6b0f515a-7e94-4479-8935-fe1f2a87c6ad"
      },
      "source": [
        "!wget --no-check-certificate \\\n",
        "    https://storage.googleapis.com/laurencemoroney-blog.appspot.com/glove.6B.100d.txt \\\n",
        "    -O /tmp/glove.6B.100d.txt\n",
        "embeddings_index = {};\n",
        "with open('/tmp/glove.6B.100d.txt') as f:\n",
        "    for line in f:\n",
        "        values = line.split();\n",
        "        word = values[0];\n",
        "        coefs = np.asarray(values[1:], dtype='float32');\n",
        "        embeddings_index[word] = coefs;\n",
        "\n",
        "embeddings_matrix = np.zeros((vocab_size+1, embedding_dim));\n",
        "for word, i in word_index.items():\n",
        "    embedding_vector = embeddings_index.get(word);\n",
        "    if embedding_vector is not None:\n",
        "        embeddings_matrix[i] = embedding_vector;"
      ],
      "execution_count": 11,
      "outputs": [
        {
          "output_type": "stream",
          "text": [
            "--2020-07-03 12:04:28--  https://storage.googleapis.com/laurencemoroney-blog.appspot.com/glove.6B.100d.txt\n",
            "Resolving storage.googleapis.com (storage.googleapis.com)... 74.125.24.128, 74.125.130.128, 172.217.194.128, ...\n",
            "Connecting to storage.googleapis.com (storage.googleapis.com)|74.125.24.128|:443... connected.\n",
            "HTTP request sent, awaiting response... 200 OK\n",
            "Length: 347116733 (331M) [text/plain]\n",
            "Saving to: ‘/tmp/glove.6B.100d.txt’\n",
            "\n",
            "/tmp/glove.6B.100d. 100%[===================>] 331.04M   100MB/s    in 3.3s    \n",
            "\n",
            "2020-07-03 12:04:32 (100 MB/s) - ‘/tmp/glove.6B.100d.txt’ saved [347116733/347116733]\n",
            "\n"
          ],
          "name": "stdout"
        }
      ]
    },
    {
      "cell_type": "code",
      "metadata": {
        "id": "HGoYTIjWi0iM",
        "colab_type": "code",
        "colab": {
          "base_uri": "https://localhost:8080/",
          "height": 35
        },
        "outputId": "fa8c30f7-a3a6-401e-89f9-81596722610d"
      },
      "source": [
        "print(len(embeddings_matrix))"
      ],
      "execution_count": 12,
      "outputs": [
        {
          "output_type": "stream",
          "text": [
            "87773\n"
          ],
          "name": "stdout"
        }
      ]
    },
    {
      "cell_type": "code",
      "metadata": {
        "id": "mr0Fra5Di6uD",
        "colab_type": "code",
        "colab": {
          "base_uri": "https://localhost:8080/",
          "height": 1000
        },
        "outputId": "54ded868-ff99-4648-ec6d-c41a8b05d89a"
      },
      "source": [
        "model = tf.keras.Sequential([\n",
        "    tf.keras.layers.Embedding(vocab_size+1, embedding_dim, input_length=max_length, weights=[embeddings_matrix], trainable=False),\n",
        "    tf.keras.layers.Dropout(0.2),\n",
        "    tf.keras.layers.Conv1D(64, 5, activation='relu'),\n",
        "    tf.keras.layers.MaxPooling1D(pool_size=4),\n",
        "    tf.keras.layers.LSTM(64),\n",
        "    tf.keras.layers.Dense(1, activation='sigmoid')\n",
        "])\n",
        "model.compile(loss='binary_crossentropy',optimizer='adam',metrics=['accuracy'])\n",
        "model.summary()\n",
        "\n",
        "num_epochs = 50\n",
        "\n",
        "training_padded = np.array(training_sequences)\n",
        "training_labels = np.array(training_labels)\n",
        "testing_padded = np.array(test_sequences)\n",
        "testing_labels = np.array(test_labels)\n",
        "\n",
        "history = model.fit(training_padded, training_labels, epochs=num_epochs, validation_data=(testing_padded, testing_labels), verbose=2)\n",
        "\n",
        "print(\"Training Complete\")"
      ],
      "execution_count": 13,
      "outputs": [
        {
          "output_type": "stream",
          "text": [
            "Model: \"sequential\"\n",
            "_________________________________________________________________\n",
            "Layer (type)                 Output Shape              Param #   \n",
            "=================================================================\n",
            "embedding (Embedding)        (None, 16, 100)           8777300   \n",
            "_________________________________________________________________\n",
            "dropout (Dropout)            (None, 16, 100)           0         \n",
            "_________________________________________________________________\n",
            "conv1d (Conv1D)              (None, 12, 64)            32064     \n",
            "_________________________________________________________________\n",
            "max_pooling1d (MaxPooling1D) (None, 3, 64)             0         \n",
            "_________________________________________________________________\n",
            "lstm (LSTM)                  (None, 64)                33024     \n",
            "_________________________________________________________________\n",
            "dense (Dense)                (None, 1)                 65        \n",
            "=================================================================\n",
            "Total params: 8,842,453\n",
            "Trainable params: 65,153\n",
            "Non-trainable params: 8,777,300\n",
            "_________________________________________________________________\n",
            "Epoch 1/50\n",
            "4500/4500 - 17s - loss: 0.5647 - accuracy: 0.7031 - val_loss: 0.5241 - val_accuracy: 0.7359\n",
            "Epoch 2/50\n",
            "4500/4500 - 15s - loss: 0.5284 - accuracy: 0.7317 - val_loss: 0.5248 - val_accuracy: 0.7304\n",
            "Epoch 3/50\n",
            "4500/4500 - 15s - loss: 0.5133 - accuracy: 0.7431 - val_loss: 0.5096 - val_accuracy: 0.7436\n",
            "Epoch 4/50\n",
            "4500/4500 - 15s - loss: 0.5024 - accuracy: 0.7505 - val_loss: 0.5097 - val_accuracy: 0.7447\n",
            "Epoch 5/50\n",
            "4500/4500 - 15s - loss: 0.4951 - accuracy: 0.7552 - val_loss: 0.5093 - val_accuracy: 0.7427\n",
            "Epoch 6/50\n",
            "4500/4500 - 15s - loss: 0.4875 - accuracy: 0.7607 - val_loss: 0.5059 - val_accuracy: 0.7474\n",
            "Epoch 7/50\n",
            "4500/4500 - 15s - loss: 0.4829 - accuracy: 0.7642 - val_loss: 0.5132 - val_accuracy: 0.7477\n",
            "Epoch 8/50\n",
            "4500/4500 - 15s - loss: 0.4772 - accuracy: 0.7674 - val_loss: 0.5055 - val_accuracy: 0.7495\n",
            "Epoch 9/50\n",
            "4500/4500 - 15s - loss: 0.4738 - accuracy: 0.7688 - val_loss: 0.5066 - val_accuracy: 0.7506\n",
            "Epoch 10/50\n",
            "4500/4500 - 15s - loss: 0.4704 - accuracy: 0.7716 - val_loss: 0.5094 - val_accuracy: 0.7466\n",
            "Epoch 11/50\n",
            "4500/4500 - 15s - loss: 0.4649 - accuracy: 0.7747 - val_loss: 0.5154 - val_accuracy: 0.7463\n",
            "Epoch 12/50\n",
            "4500/4500 - 16s - loss: 0.4628 - accuracy: 0.7766 - val_loss: 0.5142 - val_accuracy: 0.7455\n",
            "Epoch 13/50\n",
            "4500/4500 - 15s - loss: 0.4614 - accuracy: 0.7773 - val_loss: 0.5123 - val_accuracy: 0.7426\n",
            "Epoch 14/50\n",
            "4500/4500 - 15s - loss: 0.4603 - accuracy: 0.7776 - val_loss: 0.5137 - val_accuracy: 0.7487\n",
            "Epoch 15/50\n",
            "4500/4500 - 15s - loss: 0.4567 - accuracy: 0.7801 - val_loss: 0.5172 - val_accuracy: 0.7420\n",
            "Epoch 16/50\n",
            "4500/4500 - 15s - loss: 0.4544 - accuracy: 0.7824 - val_loss: 0.5177 - val_accuracy: 0.7450\n",
            "Epoch 17/50\n",
            "4500/4500 - 15s - loss: 0.4526 - accuracy: 0.7836 - val_loss: 0.5193 - val_accuracy: 0.7465\n",
            "Epoch 18/50\n",
            "4500/4500 - 15s - loss: 0.4518 - accuracy: 0.7835 - val_loss: 0.5192 - val_accuracy: 0.7464\n",
            "Epoch 19/50\n",
            "4500/4500 - 15s - loss: 0.4523 - accuracy: 0.7835 - val_loss: 0.5199 - val_accuracy: 0.7457\n",
            "Epoch 20/50\n",
            "4500/4500 - 16s - loss: 0.4487 - accuracy: 0.7850 - val_loss: 0.5176 - val_accuracy: 0.7477\n",
            "Epoch 21/50\n",
            "4500/4500 - 16s - loss: 0.4482 - accuracy: 0.7856 - val_loss: 0.5201 - val_accuracy: 0.7469\n",
            "Epoch 22/50\n",
            "4500/4500 - 15s - loss: 0.4467 - accuracy: 0.7859 - val_loss: 0.5234 - val_accuracy: 0.7477\n",
            "Epoch 23/50\n",
            "4500/4500 - 15s - loss: 0.4477 - accuracy: 0.7856 - val_loss: 0.5195 - val_accuracy: 0.7471\n",
            "Epoch 24/50\n",
            "4500/4500 - 15s - loss: 0.4434 - accuracy: 0.7885 - val_loss: 0.5225 - val_accuracy: 0.7438\n",
            "Epoch 25/50\n",
            "4500/4500 - 15s - loss: 0.4445 - accuracy: 0.7873 - val_loss: 0.5244 - val_accuracy: 0.7439\n",
            "Epoch 26/50\n",
            "4500/4500 - 15s - loss: 0.4434 - accuracy: 0.7883 - val_loss: 0.5240 - val_accuracy: 0.7424\n",
            "Epoch 27/50\n",
            "4500/4500 - 15s - loss: 0.4416 - accuracy: 0.7905 - val_loss: 0.5239 - val_accuracy: 0.7424\n",
            "Epoch 28/50\n",
            "4500/4500 - 15s - loss: 0.4417 - accuracy: 0.7893 - val_loss: 0.5271 - val_accuracy: 0.7420\n",
            "Epoch 29/50\n",
            "4500/4500 - 15s - loss: 0.4410 - accuracy: 0.7894 - val_loss: 0.5239 - val_accuracy: 0.7411\n",
            "Epoch 30/50\n",
            "4500/4500 - 15s - loss: 0.4404 - accuracy: 0.7901 - val_loss: 0.5277 - val_accuracy: 0.7394\n",
            "Epoch 31/50\n",
            "4500/4500 - 15s - loss: 0.4392 - accuracy: 0.7915 - val_loss: 0.5290 - val_accuracy: 0.7429\n",
            "Epoch 32/50\n",
            "4500/4500 - 15s - loss: 0.4394 - accuracy: 0.7915 - val_loss: 0.5299 - val_accuracy: 0.7393\n",
            "Epoch 33/50\n",
            "4500/4500 - 15s - loss: 0.4396 - accuracy: 0.7915 - val_loss: 0.5278 - val_accuracy: 0.7398\n",
            "Epoch 34/50\n",
            "4500/4500 - 15s - loss: 0.4381 - accuracy: 0.7923 - val_loss: 0.5347 - val_accuracy: 0.7434\n",
            "Epoch 35/50\n",
            "4500/4500 - 15s - loss: 0.4375 - accuracy: 0.7902 - val_loss: 0.5231 - val_accuracy: 0.7428\n",
            "Epoch 36/50\n",
            "4500/4500 - 15s - loss: 0.4374 - accuracy: 0.7921 - val_loss: 0.5286 - val_accuracy: 0.7414\n",
            "Epoch 37/50\n",
            "4500/4500 - 15s - loss: 0.4370 - accuracy: 0.7924 - val_loss: 0.5256 - val_accuracy: 0.7433\n",
            "Epoch 38/50\n",
            "4500/4500 - 15s - loss: 0.4361 - accuracy: 0.7927 - val_loss: 0.5310 - val_accuracy: 0.7419\n",
            "Epoch 39/50\n",
            "4500/4500 - 15s - loss: 0.4355 - accuracy: 0.7936 - val_loss: 0.5341 - val_accuracy: 0.7381\n",
            "Epoch 40/50\n",
            "4500/4500 - 15s - loss: 0.4342 - accuracy: 0.7939 - val_loss: 0.5339 - val_accuracy: 0.7393\n",
            "Epoch 41/50\n",
            "4500/4500 - 16s - loss: 0.4348 - accuracy: 0.7938 - val_loss: 0.5351 - val_accuracy: 0.7397\n",
            "Epoch 42/50\n",
            "4500/4500 - 15s - loss: 0.4352 - accuracy: 0.7943 - val_loss: 0.5298 - val_accuracy: 0.7404\n",
            "Epoch 43/50\n",
            "4500/4500 - 15s - loss: 0.4342 - accuracy: 0.7945 - val_loss: 0.5333 - val_accuracy: 0.7376\n",
            "Epoch 44/50\n",
            "4500/4500 - 15s - loss: 0.4347 - accuracy: 0.7936 - val_loss: 0.5329 - val_accuracy: 0.7386\n",
            "Epoch 45/50\n",
            "4500/4500 - 15s - loss: 0.4341 - accuracy: 0.7937 - val_loss: 0.5295 - val_accuracy: 0.7412\n",
            "Epoch 46/50\n",
            "4500/4500 - 15s - loss: 0.4345 - accuracy: 0.7940 - val_loss: 0.5308 - val_accuracy: 0.7398\n",
            "Epoch 47/50\n",
            "4500/4500 - 15s - loss: 0.4337 - accuracy: 0.7940 - val_loss: 0.5268 - val_accuracy: 0.7423\n",
            "Epoch 48/50\n",
            "4500/4500 - 15s - loss: 0.4328 - accuracy: 0.7951 - val_loss: 0.5335 - val_accuracy: 0.7409\n",
            "Epoch 49/50\n",
            "4500/4500 - 15s - loss: 0.4325 - accuracy: 0.7952 - val_loss: 0.5409 - val_accuracy: 0.7408\n",
            "Epoch 50/50\n",
            "4500/4500 - 15s - loss: 0.4328 - accuracy: 0.7953 - val_loss: 0.5340 - val_accuracy: 0.7405\n",
            "Training Complete\n"
          ],
          "name": "stdout"
        }
      ]
    },
    {
      "cell_type": "code",
      "metadata": {
        "id": "k-H7f1runs6Y",
        "colab_type": "code",
        "colab": {
          "base_uri": "https://localhost:8080/",
          "height": 610
        },
        "outputId": "4a972c89-ad6f-43d5-c04f-e4061b46eba5"
      },
      "source": [
        "import matplotlib.image  as mpimg\n",
        "import matplotlib.pyplot as plt\n",
        "\n",
        "#-----------------------------------------------------------\n",
        "# Retrieve a list of list results on training and test data\n",
        "# sets for each training epoch\n",
        "#-----------------------------------------------------------\n",
        "acc=history.history['accuracy']\n",
        "val_acc=history.history['val_accuracy']\n",
        "loss=history.history['loss']\n",
        "val_loss=history.history['val_loss']\n",
        "\n",
        "epochs=range(len(acc)) # Get number of epochs\n",
        "\n",
        "#------------------------------------------------\n",
        "# Plot training and validation accuracy per epoch\n",
        "#------------------------------------------------\n",
        "plt.plot(epochs, acc, 'r')\n",
        "plt.plot(epochs, val_acc, 'b')\n",
        "plt.title('Training and validation accuracy')\n",
        "plt.xlabel(\"Epochs\")\n",
        "plt.ylabel(\"Accuracy\")\n",
        "plt.legend([\"Accuracy\", \"Validation Accuracy\"])\n",
        "\n",
        "plt.figure()\n",
        "\n",
        "#------------------------------------------------\n",
        "# Plot training and validation loss per epoch\n",
        "#------------------------------------------------\n",
        "plt.plot(epochs, loss, 'r')\n",
        "plt.plot(epochs, val_loss, 'b')\n",
        "plt.title('Training and validation loss')\n",
        "plt.xlabel(\"Epochs\")\n",
        "plt.ylabel(\"Loss\")\n",
        "plt.legend([\"Loss\", \"Validation Loss\"])\n",
        "\n",
        "plt.figure()\n"
      ],
      "execution_count": 14,
      "outputs": [
        {
          "output_type": "execute_result",
          "data": {
            "text/plain": [
              "<Figure size 432x288 with 0 Axes>"
            ]
          },
          "metadata": {
            "tags": []
          },
          "execution_count": 14
        },
        {
          "output_type": "display_data",
          "data": {
            "image/png": "[encoded data removed]",
            "text/plain": [
              "<Figure size 432x288 with 1 Axes>"
            ]
          },
          "metadata": {
            "tags": [],
            "needs_background": "light"
          }
        },
        {
          "output_type": "display_data",
          "data": {
            "image/png": "[encoded data removed]",
            "text/plain": [
              "<Figure size 432x288 with 1 Axes>"
            ]
          },
          "metadata": {
            "tags": [],
            "needs_background": "light"
          }
        },
        {
          "output_type": "display_data",
          "data": {
            "text/plain": [
              "<Figure size 432x288 with 0 Axes>"
            ]
          },
          "metadata": {
            "tags": []
          }
        }
      ]
    },
    {
      "cell_type": "code",
      "metadata": {
        "id": "VzdAHa8CwJTD",
        "colab_type": "code",
        "colab": {
          "base_uri": "https://localhost:8080/",
          "height": 35
        },
        "outputId": "e4288d71-e2f4-49aa-fe0e-b65185bb3997"
      },
      "source": [
        "x =[]\n",
        "\n",
        "sentence = 'trying to be good but is bad'\n",
        "\n",
        "x.append(sentence)                  \n",
        "x_seq = tokenizer.texts_to_sequences(x)\n",
        "#print(x_seq)\n",
        "x_pad = pad_sequences(x_seq, maxlen=max_length, padding=padding_type, truncating=trunc_type)\n",
        "#print(x_pad)\n",
        "\n",
        "def decode_sentiment(score):\n",
        "    return \"Positive\" if score>0.5 else \"Negative\"    #threshold =0.5\n",
        "\n",
        "score = model.predict(x_pad)\n",
        "sentiment = decode_sentiment(score)\n",
        "\n",
        "print(sentiment)"
      ],
      "execution_count": 37,
      "outputs": [
        {
          "output_type": "stream",
          "text": [
            "Negative\n"
          ],
          "name": "stdout"
        }
      ]
    }
  ]
}